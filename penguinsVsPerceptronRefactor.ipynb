{
  "cells": [
    {
      "cell_type": "markdown",
      "metadata": {
        "id": "h66r-cuDfdck"
      },
      "source": [
        "# Perceptron Classifier Refactored\n",
        "\n",
        "The code for the perceptron classifier as a python Class. Also the preprocessing code is refactored here."
      ]
    },
    {
      "cell_type": "code",
      "execution_count": 1,
      "metadata": {
        "id": "sUg53k9Gfdcl"
      },
      "outputs": [],
      "source": [
        "#!conda install -y -c pytorch torchvision\n",
        "#!conda install -y matplotlib\n",
        "#!conda install -y -c conda-forge seaborn"
      ]
    },
    {
      "cell_type": "code",
      "execution_count": 2,
      "metadata": {
        "id": "AE4B_xSm60y9"
      },
      "outputs": [],
      "source": [
        "# import needed libraries\n",
        "import torch as pt\n",
        "# We will just use this for loading\n",
        "import pandas as pd\n",
        "# Sometimes it is just easier to use numpy than pytorch\n",
        "import numpy as np\n",
        "from matplotlib import pyplot as plt\n",
        "import seaborn as sns"
      ]
    },
    {
      "cell_type": "markdown",
      "metadata": {
        "id": "EpB9UCMfUJyC"
      },
      "source": [
        "## Loading and preprocessing the data\n",
        "\n",
        "This is a refactored version of loading the data from [palmerpenguins](https://github.com/AllisonHorst/palmerpenguins) dataset, and then limiting to two variables and two species. Here we will remove the Adelie species. The postive class will be the Chinstrap species. This allows focusing on a binary classification problem which is easier to demonstrate a basic perceptron classifier.\n",
        "\n",
        "We also include dropping missing data rows, suffling the data and normalizing to a training test split."
      ]
    },
    {
      "cell_type": "code",
      "execution_count": 3,
      "metadata": {
        "colab": {
          "base_uri": "https://localhost:8080/"
        },
        "id": "OJeFsdr_0StV",
        "outputId": "18861c37-4a88-4489-81f7-5a7d9d5aad6d"
      },
      "outputs": [
        {
          "output_type": "stream",
          "name": "stdout",
          "text": [
            "149 training examples and 38 validation examples\n"
          ]
        }
      ],
      "source": [
        "\n",
        "URL = 'https://bit.ly/palmerpenguinscsv'\n",
        "penguins_df = pd.read_csv(URL)\n",
        "penguins_df.dropna(inplace=True)\n",
        "two_var_df = penguins_df[['body_mass_g', 'bill_depth_mm', 'species']]\n",
        "species = ['Adelie', 'Gentoo', 'Chinstrap']\n",
        "# drop Adelie\n",
        "two_var_two_class_df =  two_var_df[ two_var_df['species'] != 'Adelie']\n",
        "rawX = pt.Tensor(two_var_two_class_df[['body_mass_g', 'bill_depth_mm']].values)\n",
        "rawy = pt.Tensor((two_var_two_class_df['species']=='Chinstrap').values*2.0) - 1\n",
        "\n",
        "num_rows = rawX.shape[0]\n",
        "# train-valid split\n",
        "ptc_train = .8\n",
        "# Shuffle the indices\n",
        "shuffled_inds =  pt.randperm(num_rows)\n",
        "\n",
        "# How much for validation (20%)\n",
        "pct_valid = .2\n",
        "\n",
        "# how many train?\n",
        "num_train = int(np.floor(ptc_train*num_rows))\n",
        "train_rawX, train_y = rawX[shuffled_inds[:num_train],:], rawy[shuffled_inds[:num_train]]\n",
        "valid_rawX, valid_y = rawX[shuffled_inds[num_train:],:], rawy[shuffled_inds[num_train:]]\n",
        "train_mean = train_rawX.mean(axis=0)\n",
        "train_std = train_rawX.std(axis=0)\n",
        "\n",
        "train_X = (train_rawX-train_mean)/train_std\n",
        "valid_X = (valid_rawX-train_mean)/train_std\n",
        "print(f'{train_X.shape[0]} training examples and {valid_X.shape[0]} validation examples')"
      ]
    },
    {
      "cell_type": "markdown",
      "metadata": {
        "id": "ElPIXTw1TwYi"
      },
      "source": [
        "## Perceptron as a Python Class\n",
        "\n",
        "We are trying to Perceptron as a reusable class. We are using private methods \"_weight_delta\" and \"_update\" to update weights. Instead of \"fit\" we are using \"forward\" since this tends to be the what you see when using pytorch."
      ]
    },
    {
      "cell_type": "code",
      "execution_count": 4,
      "metadata": {
        "id": "k4ZBQwak7s4z"
      },
      "outputs": [],
      "source": [
        "import torch as pt\n",
        "\n",
        "class Perceptron:\n",
        "    \"\"\"\n",
        "    A simple implementation of a Perceptron model for binary classification.\n",
        "\n",
        "    Parameters:\n",
        "        input_size (int): The number of input features (default is 2).\n",
        "        seed (int): Seed for reproducibility (default is None).\n",
        "        learning_rate (float): The learning rate for weight updates (default is 0.01).\n",
        "        verbose (bool): If True, prints updates during training (default is False).\n",
        "    \"\"\"\n",
        "\n",
        "    def __init__(self, input_size=2, seed=None, learning_rate=0.01, verbose=False):\n",
        "        self.verbose = verbose\n",
        "        self.learning_rate = learning_rate\n",
        "        if seed:\n",
        "            pt.manual_seed(seed)\n",
        "        self.input_size = input_size\n",
        "        self.weights = pt.randn((1, self.input_size + 1))\n",
        "        self._max_epochs = 5\n",
        "\n",
        "    def forward(self, input_data):\n",
        "        \"\"\"\n",
        "        Forward pass of the Perceptron.\n",
        "\n",
        "        Parameters:\n",
        "            input_data (torch.Tensor): Input data of shape (batch_size, input_size).\n",
        "\n",
        "        Returns:\n",
        "            torch.Tensor: Predicted labels (1 or -1) for each input.\n",
        "        \"\"\"\n",
        "        assert input_data.shape[1] == self.weights.shape[1] - 1\n",
        "        padded_input = pt.cat([pt.ones((input_data.shape[0], 1)), input_data], dim=1)\n",
        "        z = pt.matmul(padded_input, self.weights.t())\n",
        "        phi_z = pt.where(z >= 0, pt.tensor(1.0), pt.tensor(-1.0))\n",
        "        return phi_z\n",
        "\n",
        "    def _weight_delta(self, input_row, target_row):\n",
        "        \"\"\"\n",
        "        Compute weight update for a single data point.\n",
        "\n",
        "        Parameters:\n",
        "            input_row (torch.Tensor): Input data for a single instance.\n",
        "            target_row (torch.Tensor): True label for the corresponding instance.\n",
        "\n",
        "        Returns:\n",
        "            torch.Tensor or None: Weight update if needed, None otherwise.\n",
        "        \"\"\"\n",
        "        row_predicted_target = self.forward(input_row)\n",
        "        target_diff = target_row - row_predicted_target\n",
        "        padded_row = pt.cat([pt.ones((input_row.shape[0], 1)), input_row], dim=1)\n",
        "        if pt.abs(target_diff) > 0:\n",
        "            return self.learning_rate * target_diff * padded_row\n",
        "        else:\n",
        "            return None\n",
        "\n",
        "    def _update(self, input_row, target_row):\n",
        "        \"\"\"\n",
        "        Update weights based on a single data point.\n",
        "\n",
        "        Parameters:\n",
        "            input_row (torch.Tensor): Input data for a single instance.\n",
        "            target_row (torch.Tensor): True label for the corresponding instance.\n",
        "\n",
        "        Returns:\n",
        "            bool: True if an update is performed, False otherwise.\n",
        "        \"\"\"\n",
        "        weight_delta = self._weight_delta(input_row, target_row)\n",
        "        if weight_delta != None:\n",
        "            self.weights += weight_delta\n",
        "            return True\n",
        "        return False\n",
        "\n",
        "    def train(self, train_input, train_target, valid_input, valid_target, max_epochs=None, learning_rate=None):\n",
        "        \"\"\"\n",
        "        Train the Perceptron model.\n",
        "\n",
        "        Parameters:\n",
        "            train_input (torch.Tensor): Training input data.\n",
        "            train_target (torch.Tensor): True labels for training data.\n",
        "            valid_input (torch.Tensor): Validation input data.\n",
        "            valid_target (torch.Tensor): True labels for validation data.\n",
        "            max_epochs (int): Maximum number of training epochs.\n",
        "            learning_rate (float): Learning rate for weight updates.\n",
        "\n",
        "        Returns:\n",
        "            list, list: Lists of training and validation accuracies for each epoch.\n",
        "        \"\"\"\n",
        "        train_acc_path = []\n",
        "        valid_acc_path = []\n",
        "        if max_epochs:\n",
        "            self._max_epochs = max_epochs\n",
        "        if learning_rate:\n",
        "            self.learning_rate = learning_rate\n",
        "\n",
        "        for epoch in range(1, self._max_epochs + 1):\n",
        "            num_updates = 0\n",
        "            for ind in pt.arange(train_input.shape[0]):\n",
        "                input_row = train_input[ind: ind + 1, :]\n",
        "                target_row = train_target[ind: ind + 1]\n",
        "                is_update = self._update(input_row, target_row)\n",
        "                if is_update:\n",
        "                    num_updates += 1\n",
        "                    if self.verbose:\n",
        "                        print('u', end='')\n",
        "                elif self.verbose:\n",
        "                    print('.', end='')\n",
        "\n",
        "            print(f'\\nEpoch {epoch} complete')\n",
        "            train_acc = self.accuracy(train_input, train_target)\n",
        "            valid_acc = self.accuracy(valid_input, valid_target)\n",
        "            train_acc_path.append(train_acc)\n",
        "            valid_acc_path.append(valid_acc)\n",
        "            print(f'train accuracy: {train_acc}')\n",
        "            print(f'valid accuracy: {valid_acc}')\n",
        "            print(num_updates)\n",
        "\n",
        "            if num_updates == 0:\n",
        "                if self.verbose:\n",
        "                    print(f'No updates, terminating')\n",
        "                break\n",
        "\n",
        "        return (pt.Tensor(train_acc_path).tolist(),\n",
        "                pt.Tensor(valid_acc_path).tolist())\n",
        "\n",
        "    def accuracy(self, input_data, target_data):\n",
        "        \"\"\"\n",
        "        Calculate accuracy of the model on given data.\n",
        "\n",
        "        Parameters:\n",
        "            input_data (torch.Tensor): Input data.\n",
        "            target_data (torch.Tensor): True labels for input data.\n",
        "\n",
        "        Returns:\n",
        "            float: Accuracy of the model on the given data.\n",
        "        \"\"\"\n",
        "        predicted_data = self.forward(input_data).squeeze()\n",
        "        return (predicted_data == target_data).sum() / len(target_data)\n",
        "\n",
        "\n"
      ]
    },
    {
      "cell_type": "markdown",
      "metadata": {
        "id": "YDXV7_IRfdcn"
      },
      "source": [
        "### Test and visualize the perceptron\n",
        "\n",
        "Here we run the perceptron (without training) on two penguin classes. To visualize the untrained perceptron we plot the decision boundary by noting if the the forward pass gives before the activation:\n",
        "\n",
        "$z = w_0*1 + w_1 x + w_2 y$\n",
        "\n",
        "then the deciion boundary is where $z=0$. Solving for y we get $y = (-1/w_2) (w_0 + w_1 x)$. In other words $y = m x + b$ where $m = -w_1/w_2$ and $b = -w_0/w_2$.\n"
      ]
    },
    {
      "cell_type": "code",
      "execution_count": 5,
      "metadata": {
        "id": "gY_8byfrfdcn",
        "outputId": "ab7b384c-4753-4f4f-ae32-5eb2fead60c6",
        "colab": {
          "base_uri": "https://localhost:8080/",
          "height": 501
        }
      },
      "outputs": [
        {
          "output_type": "stream",
          "name": "stdout",
          "text": [
            "Initial train accuracy: 0.4026845693588257\n",
            "Initial valid accuracy: 0.42105263471603394\n",
            "\n"
          ]
        },
        {
          "output_type": "display_data",
          "data": {
            "text/plain": [
              "<Figure size 640x480 with 1 Axes>"
            ],
            "image/png": "[encoded data removed]"
          },
          "metadata": {}
        }
      ],
      "source": [
        "model = Perceptron(verbose=True, seed=42)\n",
        "model.forward(train_X)\n",
        "\n",
        "train_acc = model.accuracy(train_X, train_y)\n",
        "valid_acc = model.accuracy(valid_X, valid_y)\n",
        "print(f'Initial train accuracy: {train_acc}')\n",
        "print(f'Initial valid accuracy: {valid_acc}\\n')\n",
        "\n",
        "minX, minY = train_X.min(axis=0)[0]\n",
        "maxX, maxY = train_X.max(axis=0)[0]\n",
        "minX, maxX = float(minX), float(maxX)\n",
        "\n",
        "# Plotting the decision boundary\n",
        "b = -float(model.weights[0,0])/float(model.weights[0,1])\n",
        "m = -float(model.weights[0,2])/float(model.weights[0,1])\n",
        "\n",
        "labels = np.array(['Gentoo', 'Chinstrap'])[(train_y == 1)*1]\n",
        "\n",
        "fig, ax = plt.subplots()\n",
        "_ = sns.scatterplot(x=train_X[:,0],\n",
        "                y=train_X[:,1],\n",
        "                hue=labels,\n",
        "                ax=ax)\n",
        "\n",
        "_ = sns.lineplot(x=[minX, maxX],\n",
        "             y=[b+m*minX,b+m*maxX])"
      ]
    },
    {
      "cell_type": "markdown",
      "metadata": {
        "id": "gNRomJXGfdcn"
      },
      "source": [
        "## Run the training\n",
        "\n",
        "Here we run the training for the perceptron. As it goes, it will show updates with a \"u\" and no updates with a \".\" per instance. It also returns the sequence of training and validation accuracies for each epoch."
      ]
    },
    {
      "cell_type": "code",
      "execution_count": 6,
      "metadata": {
        "colab": {
          "base_uri": "https://localhost:8080/"
        },
        "id": "VbjSQl0PRtmo",
        "outputId": "0bfb0a32-23b2-41e9-b1ba-4a722c3fc869"
      },
      "outputs": [
        {
          "output_type": "stream",
          "name": "stdout",
          "text": [
            "uuuuu..u..u....u.....u...uuu............u.............................................................u..............................................\n",
            "Epoch 1 complete\n",
            "train accuracy: 0.9798657894134521\n",
            "valid accuracy: 0.9210526347160339\n",
            "14\n",
            "...........................u.........................................................................................................................\n",
            "Epoch 2 complete\n",
            "train accuracy: 0.9932885766029358\n",
            "valid accuracy: 0.9473684430122375\n",
            "1\n",
            "...........................u.........................................................................................................................\n",
            "Epoch 3 complete\n",
            "train accuracy: 1.0\n",
            "valid accuracy: 0.9736841917037964\n",
            "1\n",
            ".....................................................................................................................................................\n",
            "Epoch 4 complete\n",
            "train accuracy: 1.0\n",
            "valid accuracy: 0.9736841917037964\n",
            "0\n",
            "No updates, terminating\n",
            "\n",
            "trained train accuracy: 1.0\n",
            "trained valid accuracy: 0.9736841917037964\n"
          ]
        }
      ],
      "source": [
        "train_acc_path, valid_acc_path = model.train(train_X,\n",
        "                                             train_y,\n",
        "                                             valid_X,\n",
        "                                             valid_y,\n",
        "                                             max_epochs=6)\n",
        "train_acc = model.accuracy(train_X, train_y)\n",
        "valid_acc = model.accuracy(valid_X, valid_y)\n",
        "print(f'\\ntrained train accuracy: {train_acc}')\n",
        "print(f'trained valid accuracy: {valid_acc}')"
      ]
    },
    {
      "cell_type": "markdown",
      "metadata": {
        "id": "C-EK5SqZfdco"
      },
      "source": [
        "### Reformating the training, testing data into a data frame.\n",
        "\n",
        "It becomes easier to show the curves if we set up the plots in a data frame."
      ]
    },
    {
      "cell_type": "code",
      "execution_count": 7,
      "metadata": {
        "colab": {
          "base_uri": "https://localhost:8080/",
          "height": 175
        },
        "id": "N5hPd6_N4FiM",
        "outputId": "3a1b172f-a297-4bd7-e4fa-27a19fc24b9c"
      },
      "outputs": [
        {
          "output_type": "execute_result",
          "data": {
            "text/plain": [
              "   steps  train acc  valid acc\n",
              "0      1   0.979866   0.921053\n",
              "1      2   0.993289   0.947368\n",
              "2      3   1.000000   0.973684\n",
              "3      4   1.000000   0.973684"
            ],
            "text/html": [
              "\n",
              "  <div id=\"df-6b449876-4f70-4725-8814-0b2ce4b96a5c\" class=\"colab-df-container\">\n",
              "    <div>\n",
              "<style scoped>\n",
              "    .dataframe tbody tr th:only-of-type {\n",
              "        vertical-align: middle;\n",
              "    }\n",
              "\n",
              "    .dataframe tbody tr th {\n",
              "        vertical-align: top;\n",
              "    }\n",
              "\n",
              "    .dataframe thead th {\n",
              "        text-align: right;\n",
              "    }\n",
              "</style>\n",
              "<table border=\"1\" class=\"dataframe\">\n",
              "  <thead>\n",
              "    <tr style=\"text-align: right;\">\n",
              "      <th></th>\n",
              "      <th>steps</th>\n",
              "      <th>train acc</th>\n",
              "      <th>valid acc</th>\n",
              "    </tr>\n",
              "  </thead>\n",
              "  <tbody>\n",
              "    <tr>\n",
              "      <th>0</th>\n",
              "      <td>1</td>\n",
              "      <td>0.979866</td>\n",
              "      <td>0.921053</td>\n",
              "    </tr>\n",
              "    <tr>\n",
              "      <th>1</th>\n",
              "      <td>2</td>\n",
              "      <td>0.993289</td>\n",
              "      <td>0.947368</td>\n",
              "    </tr>\n",
              "    <tr>\n",
              "      <th>2</th>\n",
              "      <td>3</td>\n",
              "      <td>1.000000</td>\n",
              "      <td>0.973684</td>\n",
              "    </tr>\n",
              "    <tr>\n",
              "      <th>3</th>\n",
              "      <td>4</td>\n",
              "      <td>1.000000</td>\n",
              "      <td>0.973684</td>\n",
              "    </tr>\n",
              "  </tbody>\n",
              "</table>\n",
              "</div>\n",
              "    <div class=\"colab-df-buttons\">\n",
              "\n",
              "  <div class=\"colab-df-container\">\n",
              "    <button class=\"colab-df-convert\" onclick=\"convertToInteractive('df-6b449876-4f70-4725-8814-0b2ce4b96a5c')\"\n",
              "            title=\"Convert this dataframe to an interactive table.\"\n",
              "            style=\"display:none;\">\n",
              "\n",
              "  <svg xmlns=\"http://www.w3.org/2000/svg\" height=\"24px\" viewBox=\"0 -960 960 960\">\n",
              "    <path d=\"M120-120v-720h720v720H120Zm60-500h600v-160H180v160Zm220 220h160v-160H400v160Zm0 220h160v-160H400v160ZM180-400h160v-160H180v160Zm440 0h160v-160H620v160ZM180-180h160v-160H180v160Zm440 0h160v-160H620v160Z\"/>\n",
              "  </svg>\n",
              "    </button>\n",
              "\n",
              "  <style>\n",
              "    .colab-df-container {\n",
              "      display:flex;\n",
              "      gap: 12px;\n",
              "    }\n",
              "\n",
              "    .colab-df-convert {\n",
              "      background-color: #E8F0FE;\n",
              "      border: none;\n",
              "      border-radius: 50%;\n",
              "      cursor: pointer;\n",
              "      display: none;\n",
              "      fill: #1967D2;\n",
              "      height: 32px;\n",
              "      padding: 0 0 0 0;\n",
              "      width: 32px;\n",
              "    }\n",
              "\n",
              "    .colab-df-convert:hover {\n",
              "      background-color: #E2EBFA;\n",
              "      box-shadow: 0px 1px 2px rgba(60, 64, 67, 0.3), 0px 1px 3px 1px rgba(60, 64, 67, 0.15);\n",
              "      fill: #174EA6;\n",
              "    }\n",
              "\n",
              "    .colab-df-buttons div {\n",
              "      margin-bottom: 4px;\n",
              "    }\n",
              "\n",
              "    [theme=dark] .colab-df-convert {\n",
              "      background-color: #3B4455;\n",
              "      fill: #D2E3FC;\n",
              "    }\n",
              "\n",
              "    [theme=dark] .colab-df-convert:hover {\n",
              "      background-color: #434B5C;\n",
              "      box-shadow: 0px 1px 3px 1px rgba(0, 0, 0, 0.15);\n",
              "      filter: drop-shadow(0px 1px 2px rgba(0, 0, 0, 0.3));\n",
              "      fill: #FFFFFF;\n",
              "    }\n",
              "  </style>\n",
              "\n",
              "    <script>\n",
              "      const buttonEl =\n",
              "        document.querySelector('#df-6b449876-4f70-4725-8814-0b2ce4b96a5c button.colab-df-convert');\n",
              "      buttonEl.style.display =\n",
              "        google.colab.kernel.accessAllowed ? 'block' : 'none';\n",
              "\n",
              "      async function convertToInteractive(key) {\n",
              "        const element = document.querySelector('#df-6b449876-4f70-4725-8814-0b2ce4b96a5c');\n",
              "        const dataTable =\n",
              "          await google.colab.kernel.invokeFunction('convertToInteractive',\n",
              "                                                    [key], {});\n",
              "        if (!dataTable) return;\n",
              "\n",
              "        const docLinkHtml = 'Like what you see? Visit the ' +\n",
              "          '<a target=\"_blank\" href=https://colab.research.google.com/notebooks/data_table.ipynb>data table notebook</a>'\n",
              "          + ' to learn more about interactive tables.';\n",
              "        element.innerHTML = '';\n",
              "        dataTable['output_type'] = 'display_data';\n",
              "        await google.colab.output.renderOutput(dataTable, element);\n",
              "        const docLink = document.createElement('div');\n",
              "        docLink.innerHTML = docLinkHtml;\n",
              "        element.appendChild(docLink);\n",
              "      }\n",
              "    </script>\n",
              "  </div>\n",
              "\n",
              "\n",
              "<div id=\"df-1cb98772-8ce3-480a-bc0e-b8760e84ce45\">\n",
              "  <button class=\"colab-df-quickchart\" onclick=\"quickchart('df-1cb98772-8ce3-480a-bc0e-b8760e84ce45')\"\n",
              "            title=\"Suggest charts\"\n",
              "            style=\"display:none;\">\n",
              "\n",
              "<svg xmlns=\"http://www.w3.org/2000/svg\" height=\"24px\"viewBox=\"0 0 24 24\"\n",
              "     width=\"24px\">\n",
              "    <g>\n",
              "        <path d=\"M19 3H5c-1.1 0-2 .9-2 2v14c0 1.1.9 2 2 2h14c1.1 0 2-.9 2-2V5c0-1.1-.9-2-2-2zM9 17H7v-7h2v7zm4 0h-2V7h2v10zm4 0h-2v-4h2v4z\"/>\n",
              "    </g>\n",
              "</svg>\n",
              "  </button>\n",
              "\n",
              "<style>\n",
              "  .colab-df-quickchart {\n",
              "      --bg-color: #E8F0FE;\n",
              "      --fill-color: #1967D2;\n",
              "      --hover-bg-color: #E2EBFA;\n",
              "      --hover-fill-color: #174EA6;\n",
              "      --disabled-fill-color: #AAA;\n",
              "      --disabled-bg-color: #DDD;\n",
              "  }\n",
              "\n",
              "  [theme=dark] .colab-df-quickchart {\n",
              "      --bg-color: #3B4455;\n",
              "      --fill-color: #D2E3FC;\n",
              "      --hover-bg-color: #434B5C;\n",
              "      --hover-fill-color: #FFFFFF;\n",
              "      --disabled-bg-color: #3B4455;\n",
              "      --disabled-fill-color: #666;\n",
              "  }\n",
              "\n",
              "  .colab-df-quickchart {\n",
              "    background-color: var(--bg-color);\n",
              "    border: none;\n",
              "    border-radius: 50%;\n",
              "    cursor: pointer;\n",
              "    display: none;\n",
              "    fill: var(--fill-color);\n",
              "    height: 32px;\n",
              "    padding: 0;\n",
              "    width: 32px;\n",
              "  }\n",
              "\n",
              "  .colab-df-quickchart:hover {\n",
              "    background-color: var(--hover-bg-color);\n",
              "    box-shadow: 0 1px 2px rgba(60, 64, 67, 0.3), 0 1px 3px 1px rgba(60, 64, 67, 0.15);\n",
              "    fill: var(--button-hover-fill-color);\n",
              "  }\n",
              "\n",
              "  .colab-df-quickchart-complete:disabled,\n",
              "  .colab-df-quickchart-complete:disabled:hover {\n",
              "    background-color: var(--disabled-bg-color);\n",
              "    fill: var(--disabled-fill-color);\n",
              "    box-shadow: none;\n",
              "  }\n",
              "\n",
              "  .colab-df-spinner {\n",
              "    border: 2px solid var(--fill-color);\n",
              "    border-color: transparent;\n",
              "    border-bottom-color: var(--fill-color);\n",
              "    animation:\n",
              "      spin 1s steps(1) infinite;\n",
              "  }\n",
              "\n",
              "  @keyframes spin {\n",
              "    0% {\n",
              "      border-color: transparent;\n",
              "      border-bottom-color: var(--fill-color);\n",
              "      border-left-color: var(--fill-color);\n",
              "    }\n",
              "    20% {\n",
              "      border-color: transparent;\n",
              "      border-left-color: var(--fill-color);\n",
              "      border-top-color: var(--fill-color);\n",
              "    }\n",
              "    30% {\n",
              "      border-color: transparent;\n",
              "      border-left-color: var(--fill-color);\n",
              "      border-top-color: var(--fill-color);\n",
              "      border-right-color: var(--fill-color);\n",
              "    }\n",
              "    40% {\n",
              "      border-color: transparent;\n",
              "      border-right-color: var(--fill-color);\n",
              "      border-top-color: var(--fill-color);\n",
              "    }\n",
              "    60% {\n",
              "      border-color: transparent;\n",
              "      border-right-color: var(--fill-color);\n",
              "    }\n",
              "    80% {\n",
              "      border-color: transparent;\n",
              "      border-right-color: var(--fill-color);\n",
              "      border-bottom-color: var(--fill-color);\n",
              "    }\n",
              "    90% {\n",
              "      border-color: transparent;\n",
              "      border-bottom-color: var(--fill-color);\n",
              "    }\n",
              "  }\n",
              "</style>\n",
              "\n",
              "  <script>\n",
              "    async function quickchart(key) {\n",
              "      const quickchartButtonEl =\n",
              "        document.querySelector('#' + key + ' button');\n",
              "      quickchartButtonEl.disabled = true;  // To prevent multiple clicks.\n",
              "      quickchartButtonEl.classList.add('colab-df-spinner');\n",
              "      try {\n",
              "        const charts = await google.colab.kernel.invokeFunction(\n",
              "            'suggestCharts', [key], {});\n",
              "      } catch (error) {\n",
              "        console.error('Error during call to suggestCharts:', error);\n",
              "      }\n",
              "      quickchartButtonEl.classList.remove('colab-df-spinner');\n",
              "      quickchartButtonEl.classList.add('colab-df-quickchart-complete');\n",
              "    }\n",
              "    (() => {\n",
              "      let quickchartButtonEl =\n",
              "        document.querySelector('#df-1cb98772-8ce3-480a-bc0e-b8760e84ce45 button');\n",
              "      quickchartButtonEl.style.display =\n",
              "        google.colab.kernel.accessAllowed ? 'block' : 'none';\n",
              "    })();\n",
              "  </script>\n",
              "</div>\n",
              "    </div>\n",
              "  </div>\n"
            ]
          },
          "metadata": {},
          "execution_count": 7
        }
      ],
      "source": [
        "training_curves_df = pd.DataFrame({'steps':(np.arange(len(train_acc_path))+1),\n",
        "                                   'train acc':train_acc_path,\n",
        "                                   'valid acc':valid_acc_path})\n",
        "training_curves_df"
      ]
    },
    {
      "cell_type": "markdown",
      "metadata": {
        "id": "68PKD3QXfdco"
      },
      "source": [
        "### Ploting train-test curves\n",
        "\n",
        "Plotting the training and validation curves. We plot per epoch. Note we write so that the algorithm terminates if we pass through an epoch without updating since it will not update after that."
      ]
    },
    {
      "cell_type": "code",
      "execution_count": 8,
      "metadata": {
        "colab": {
          "base_uri": "https://localhost:8080/",
          "height": 466
        },
        "id": "GOr0IeXMJmTl",
        "outputId": "d278b145-d34a-49cb-c24b-c1abd9b2fe4e"
      },
      "outputs": [
        {
          "output_type": "execute_result",
          "data": {
            "text/plain": [
              "(0.0, 1.1)"
            ]
          },
          "metadata": {},
          "execution_count": 8
        },
        {
          "output_type": "display_data",
          "data": {
            "text/plain": [
              "<Figure size 640x480 with 1 Axes>"
            ],
            "image/png": "[encoded data removed]"
          },
          "metadata": {}
        }
      ],
      "source": [
        "fig, ax = plt.subplots()\n",
        "_ = sns.lineplot(data=training_curves_df,\n",
        "             x='steps', y='train acc',\n",
        "             label='train acc', ax=ax)\n",
        "_ = sns.lineplot(data=training_curves_df,\n",
        "             x='steps', y='valid acc',\n",
        "             label='valid acc', ax=ax)\n",
        "ax.set_ylabel('accuracy')\n",
        "ax.set_ylim(0, 1.1)"
      ]
    },
    {
      "cell_type": "code",
      "execution_count": 9,
      "metadata": {
        "colab": {
          "base_uri": "https://localhost:8080/",
          "height": 449
        },
        "id": "p4v5tE43NEer",
        "outputId": "dd8f2e8b-bf16-4113-ae1d-af8ef33c86b5"
      },
      "outputs": [
        {
          "output_type": "display_data",
          "data": {
            "text/plain": [
              "<Figure size 640x480 with 1 Axes>"
            ],
            "image/png": "[encoded data removed]"
          },
          "metadata": {}
        }
      ],
      "source": [
        "\n",
        "# Plotting the decision boundary\n",
        "b = -float(model.weights[0,0])/float(model.weights[0,1])\n",
        "m = -float(model.weights[0,2])/float(model.weights[0,1])\n",
        "\n",
        "labels = np.array(['Gentoo', 'Chinstrap'])[(train_y == 1)*1]\n",
        "\n",
        "fig, ax = plt.subplots()\n",
        "_ = sns.scatterplot(x=train_X[:,0],\n",
        "                y=train_X[:,1],\n",
        "                hue=labels,\n",
        "                ax=ax)\n",
        "\n",
        "_ = sns.lineplot(x=[minX, maxX],\n",
        "             y=[b+m*minX,b+m*maxX])\n",
        "\n",
        "_ = sns.move_legend(ax, 'upper right')"
      ]
    },
    {
      "cell_type": "code",
      "execution_count": 9,
      "metadata": {
        "id": "5Ww-t8cufdco"
      },
      "outputs": [],
      "source": []
    }
  ],
  "metadata": {
    "colab": {
      "provenance": []
    },
    "kernelspec": {
      "display_name": "Python 3",
      "name": "python3"
    },
    "language_info": {
      "codemirror_mode": {
        "name": "ipython",
        "version": 3
      },
      "file_extension": ".py",
      "mimetype": "text/x-python",
      "name": "python",
      "nbconvert_exporter": "python",
      "pygments_lexer": "ipython3",
      "version": "3.11.4"
    }
  },
  "nbformat": 4,
  "nbformat_minor": 0
}